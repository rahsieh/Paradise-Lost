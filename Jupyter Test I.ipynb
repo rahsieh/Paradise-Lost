{
 "cells": [
  {
   "cell_type": "markdown",
   "id": "b832cc97-63f0-4642-8fbe-15de019f642f",
   "metadata": {},
   "source": [
    "<h1>Paradise Lost</h1>"
   ]
  },
  {
   "cell_type": "markdown",
   "id": "f8168dd7-a8a0-4d44-9bcb-5dd12b190ba6",
   "metadata": {},
   "source": [
    "<img src=\"https://waapple.org/wp-content/uploads/2021/06/Untitled-design-20-e1745534545813-658x677.png\"></img>"
   ]
  },
  {
   "cell_type": "markdown",
   "id": "a0e5ee77-aa67-4a7e-a308-9ea71130179e",
   "metadata": {},
   "source": [
    "<i>Image 1: Apple</i>"
   ]
  },
  {
   "cell_type": "markdown",
   "id": "7de22590-1e01-486a-a96b-bb34da1982e9",
   "metadata": {},
   "source": [
    "From my <b>understanding</b>, the relationship between bliss and woe is relational, meaning that one often comes with the other.\n",
    "Hell is a demonstration of solitude woe because Satan’s understanding of knowledge leads to woe, though it does grant him answers to his curiosities.\n",
    "It is stated that Satan has “lost happiness and lasting pain,” meaning that though knowledge renders him unhappy due to the access to truths, it also saves him from lasting pain as he is no longer “unknowing” (1.55).\n",
    "On the other notion, in the Garden of Eden, Adam and Eve’s “mutual help/And mutual love, the Crown of all [their] bliss” enables the pair to live a carefree lifestyle, but at the cost of being ignorant. \n",
    "For this reason, though there is seemingly bliss within, they are, in actuality, solitary individuals who cannot share the fruit of knowledge with one another (4.727-29).\n",
    "I believe that Paradise Lost as a whole illustrates the paradox and caveat between knowing and unknowing.\n",
    "There is a cost in obtaining knowledge, but in the end, Milton seems to want to deliver the message that though one can never obtain enough knowledge to ever be truly blissful, it is far superior to being ignorant, and, because more knowledge brings one closer to bliss, one should think this as a consolation for a hopeful future and continue one’s pursuit in knowledge.\n",
    "I especially like how Paradise Lost connects with UCSD’s snake path, an allusion to the seemingly inaccessible and challenging criteria in learning and acquiring knowledge."
   ]
  },
  {
   "cell_type": "markdown",
   "id": "daa8e373-dd06-457d-8659-7d6412143315",
   "metadata": {},
   "source": [
    "<a href=\"https://www.amazon.com/Paradise-Lost-Penguin-Classics-Milton/dp/0140424393\">Click Here to Buy!</a>"
   ]
  }
 ],
 "metadata": {
  "kernelspec": {
   "display_name": "Python [conda env:base] *",
   "language": "python",
   "name": "conda-base-py"
  },
  "language_info": {
   "codemirror_mode": {
    "name": "ipython",
    "version": 3
   },
   "file_extension": ".py",
   "mimetype": "text/x-python",
   "name": "python",
   "nbconvert_exporter": "python",
   "pygments_lexer": "ipython3",
   "version": "3.13.5"
  }
 },
 "nbformat": 4,
 "nbformat_minor": 5
}
